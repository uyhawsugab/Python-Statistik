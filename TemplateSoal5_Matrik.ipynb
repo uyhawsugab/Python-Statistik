{
  "nbformat": 4,
  "nbformat_minor": 0,
  "metadata": {
    "colab": {
      "name": "TemplateSoal5_Matrik.ipynb",
      "provenance": [],
      "collapsed_sections": [],
      "include_colab_link": true
    },
    "kernelspec": {
      "name": "python3",
      "display_name": "Python 3"
    }
  },
  "cells": [
    {
      "cell_type": "markdown",
      "metadata": {
        "id": "view-in-github",
        "colab_type": "text"
      },
      "source": [
        "<a href=\"https://colab.research.google.com/github/uyhawsugab/Python-Statistik/blob/main/TemplateSoal5_Matrik.ipynb\" target=\"_parent\"><img src=\"https://colab.research.google.com/assets/colab-badge.svg\" alt=\"Open In Colab\"/></a>"
      ]
    },
    {
      "cell_type": "markdown",
      "metadata": {
        "id": "dzOV8siuFGil"
      },
      "source": [
        "**Tugas Pemrograman Operasi Dasar Matrik**\r\n",
        "*   NRP: 201111044\r\n",
        "*   Nama: Wahyu Bagus Wicaksono\r\n",
        "*   Kelas: D3\r\n",
        "*   Kode Matakuliah: TI19KB11\r\n",
        "*   Nama Matakuliah: Algoritma dan Pemrograman I\r\n",
        "*   Tanggal Pengumpulan: 10 Desember 2020\r\n",
        "\r\n",
        "\r\n",
        "---\r\n",
        "\r\n",
        "\r\n",
        "\r\n",
        "\r\n",
        "\r\n"
      ]
    },
    {
      "cell_type": "markdown",
      "metadata": {
        "id": "2-cFbG4XGIdT"
      },
      "source": [
        "**Soal Nomer 1 - Perkalian Dua Matriks**\\\r\n",
        "Buat program operasi dasar matrik yakni **penjumlahan dua matrik**, dimana ordo dan nilai dari kedua matriknya ditentukan oleh inputan user, flow programnya sbb:\r\n",
        "\r\n",
        "1.   User mamasukkan ukuran ordo matrik pertama, misal a dan b\r\n",
        "2.   User mamasukkan ukuran ordo matrik kedua, misal c dan d\r\n",
        "3.   User memasukkan nilai dari matrik pertama sesuai dengan ordo matrik\r\n",
        "4.   User memasukkan nilai dari matrik kedua sesuai dengan ordo matrik\r\n",
        "5.   Program menampilkan proses perhitungan penjumlahan matrik\r\n",
        "6.   Program menampilkan hasil perhitungan penjumlahan matrik\r\n",
        "7.   Program menampilkan pertanyaan \"Mau coba lagi?\"\r\n",
        "8.   Jika user menjawab Y maka program mulai lagi ke langkah 1, kalau tidak program selesai\r\n",
        "\r\n",
        "\r\n",
        "\r\n",
        "\r\n",
        "\r\n",
        "\r\n",
        "\r\n",
        "\r\n",
        "\r\n",
        "\r\n",
        "\r\n",
        "\r\n",
        "\r\n",
        "\r\n"
      ]
    },
    {
      "cell_type": "code",
      "metadata": {
        "id": "fTlTpVxzIsZ-",
        "colab": {
          "base_uri": "https://localhost:8080/"
        },
        "outputId": "16389f1a-4742-48a2-af19-07c7430c8d18"
      },
      "source": [
        "#Jawaban Soal Nomer 1\r\n",
        "\r\n",
        "import numpy as np\r\n",
        "\r\n",
        "ordo_x = int(input(\"Masukkan Jumlah Ordo X  : \"))\r\n",
        "ordo_y = int(input(\"Masukkan Jumlah Orde Y  : \"))\r\n",
        "\r\n",
        "print()\r\n",
        "print(\"Matriks 1\")\r\n",
        "\r\n",
        "outer_x = []\r\n",
        "for i in range(ordo_y):\r\n",
        "  inner_x = []\r\n",
        "  for j in range(ordo_x):\r\n",
        "    inpt = int(input(\"Masukkan nilai ke-{} dan ke-{} : \".format(i,j)))\r\n",
        "    inner_x.append(inpt)\r\n",
        "  outer_x.append(inner_x)\r\n",
        "\r\n",
        "print()\r\n",
        "print(\"Matriks 2\")\r\n",
        "\r\n",
        "outer_y = []\r\n",
        "for i in range(ordo_y):\r\n",
        "  inner_y = []\r\n",
        "  for j in range(ordo_x):\r\n",
        "    inpt = int(input(\"Masukkan nilai ke-{} dan ke-{} : \".format(i,j)))\r\n",
        "    inner_y.append(inpt)\r\n",
        "  outer_y.append(inner_y)\r\n",
        "\r\n",
        "print()\r\n",
        "print(\"Hasil Pemjumlahan dari Matriks 1 dan 2\")\r\n",
        "\r\n",
        "outer_z = []\r\n",
        "for i in range(ordo_y):\r\n",
        "  inner_z = []\r\n",
        "  for j in range(ordo_x):\r\n",
        "    inpt_z = outer_x[i][j] + outer_y[i][j]\r\n",
        "    inner_z.append(inpt_z)\r\n",
        "  outer_z.append(inner_z)\r\n",
        "\r\n",
        "print()\r\n",
        "print(np.array(outer_z))\r\n",
        "print()\r\n",
        "\r\n",
        "pilihan = input(\"Mau Coba Lagi ? : Y/N \")\r\n",
        "print()\r\n",
        "\r\n",
        "while pilihan == 'Y':\r\n",
        "  ordo_x = int(input(\"Masukkan Jumlah Ordo X  : \"))\r\n",
        "  ordo_y = int(input(\"Masukkan Jumlah Orde Y  : \"))\r\n",
        "\r\n",
        "  print()\r\n",
        "  print(\"Matriks 1\")\r\n",
        "\r\n",
        "  outer_x = []\r\n",
        "  for i in range(ordo_y):\r\n",
        "    inner_x = []\r\n",
        "    for j in range(ordo_x):\r\n",
        "      inpt = int(input(\"Masukkan nilai ke-{} dan ke-{} : \".format(i,j)))\r\n",
        "      inner_x.append(inpt)\r\n",
        "    outer_x.append(inner_x)\r\n",
        "\r\n",
        "  print()\r\n",
        "  print(\"Matriks 2\")\r\n",
        "\r\n",
        "  outer_y = []\r\n",
        "  for i in range(ordo_y):\r\n",
        "    inner_y = []\r\n",
        "    for j in range(ordo_x):\r\n",
        "      inpt = int(input(\"Masukkan nilai ke-{} dan ke-{} : \".format(i,j)))\r\n",
        "      inner_y.append(inpt)\r\n",
        "    outer_y.append(inner_y)\r\n",
        "\r\n",
        "  print()\r\n",
        "  print(\"Hasil Pemjumlahan dari Matriks 1 dan 2\")\r\n",
        "\r\n",
        "  outer_z = []\r\n",
        "  for i in range(ordo_y):\r\n",
        "    inner_z = []\r\n",
        "    for j in range(ordo_x):\r\n",
        "      inpt_z = outer_x[i][j] + outer_y[i][j]\r\n",
        "      inner_z.append(inpt_z)\r\n",
        "    outer_z.append(inner_z)\r\n",
        "\r\n",
        "  print()\r\n",
        "  print(np.array(outer_z))\r\n",
        "\r\n",
        "  pilihan = input(\"Mau Coba Lagi ? : Y/N \")\r\n",
        "\r\n",
        "print(\"Program Telah Selesai Dieksekusi\")\r\n",
        "\r\n",
        "\r\n",
        "\r\n",
        "\r\n"
      ],
      "execution_count": 17,
      "outputs": [
        {
          "output_type": "stream",
          "text": [
            "Masukkan Jumlah Ordo X  : 2\n",
            "Masukkan Jumlah Orde Y  : 2\n",
            "\n",
            "Matriks 1\n",
            "Masukkan nilai ke-0 dan ke-0 : 1\n",
            "Masukkan nilai ke-0 dan ke-1 : 2\n",
            "Masukkan nilai ke-1 dan ke-0 : 3\n",
            "Masukkan nilai ke-1 dan ke-1 : 4\n",
            "\n",
            "Matriks 2\n",
            "Masukkan nilai ke-0 dan ke-0 : 4\n",
            "Masukkan nilai ke-0 dan ke-1 : 3\n",
            "Masukkan nilai ke-1 dan ke-0 : 2\n",
            "Masukkan nilai ke-1 dan ke-1 : 1\n",
            "\n",
            "Hasil Pemjumlahan dari Matriks 1 dan 2\n",
            "\n",
            "[[5 5]\n",
            " [5 5]]\n",
            "\n",
            "Mau Coba Lagi ? : Y/N N\n",
            "\n",
            "Program Telah Selesai Dieksekusi\n"
          ],
          "name": "stdout"
        }
      ]
    },
    {
      "cell_type": "markdown",
      "metadata": {
        "id": "c7Rxf0wQI1FP"
      },
      "source": [
        "Jawaban Penjelasan program Soal Nomer 1\r\n",
        "\r\n",
        "\r\n",
        "---\r\n",
        "\r\n"
      ]
    },
    {
      "cell_type": "markdown",
      "metadata": {
        "id": "dsxDEEsS4ZTF"
      },
      "source": [
        "# **Penjelasan Program Nomer 1**\r\n",
        "\r\n",
        "Pertama User akan menginputkan jumlah ordo dari tiap\" Matriks, setelah di tentukan melalui input, setelah itu mendeklarasikan variabel penampung array pertama dan array kedua, setelah itu kita melakukan looping untuk memasukkan nilai ke dalam array, setelah semua nilai array terpenuhi, antara matriks X dan matriks Y, maka akan di lakukan perjumlahan untuk nilai dari matriks Z, dengan cara melooping isi dari matriks X dan Y kemudian di jumlahkan dan di masukkan ke dalam array matriks Z, setelah program di eksekusi, maka tersedia pilihan Y atau N, jika Y maka program akan di ulangi lagi, jika N maka program selesai di eksekusi\r\n"
      ]
    },
    {
      "cell_type": "markdown",
      "metadata": {
        "id": "z7jli_eWJ1a1"
      },
      "source": [
        "**Soal Nomer 2 Penjumlahan dan Pengurangan Matriks**\\\r\n",
        "Buat program operasi dasar matrik yakni **perkalian dua matrik**, dimana ordo dan nilai dari kedua matriknya ditentukan oleh inputan user, flow programnya sbb:\r\n",
        "\r\n",
        "1.   User mamasukkan ukuran ordo matrik pertama, misal a dan b\r\n",
        "2.   User mamasukkan ukuran ordo matrik kedua, misal c dan d\r\n",
        "3.   User memasukkan nilai dari matrik pertama sesuai dengan ordo matrik\r\n",
        "4.   User memasukkan nilai dari matrik kedua sesuai dengan ordo matrik\r\n",
        "5.   Program menampilkan proses perhitungan perkalian matrik\r\n",
        "6.   Program menampilkan hasil perhitungan perkalian matrik\r\n",
        "7.   Program menampilkan pertanyaan \"Mau coba lagi?\"\r\n",
        "8.   Jika user menjawab Y maka program mulai lagi ke langkah 1, kalau tidak program selesai\r\n"
      ]
    },
    {
      "cell_type": "code",
      "metadata": {
        "id": "w9iKEM2nKYoD",
        "colab": {
          "base_uri": "https://localhost:8080/"
        },
        "outputId": "38208407-d3b9-4a92-d140-85034c79f2ca"
      },
      "source": [
        "#Jawaban Soal Nomer 2\r\n",
        "\r\n",
        "import numpy as np\r\n",
        "\r\n",
        "ordo_x = int(input(\"Masukkan Jumlah Ordo X  : \"))\r\n",
        "ordo_y = int(input(\"Masukkan Jumlah Orde Y  : \"))\r\n",
        "\r\n",
        "print()\r\n",
        "print(\"Matriks 1\")\r\n",
        "\r\n",
        "outer_x = []\r\n",
        "for i in range(ordo_y):\r\n",
        "  inner_x = []\r\n",
        "  for j in range(ordo_x):\r\n",
        "    inpt = int(input(\"Masukkan nilai ke-{} dan ke-{} : \".format(i,j)))\r\n",
        "    inner_x.append(inpt)\r\n",
        "  outer_x.append(inner_x)\r\n",
        "\r\n",
        "print()\r\n",
        "print(\"Matriks 2\")\r\n",
        "\r\n",
        "outer_y = []\r\n",
        "for i in range(ordo_y):\r\n",
        "  inner_y = []\r\n",
        "  for j in range(ordo_x):\r\n",
        "    inpt = int(input(\"Masukkan nilai ke-{} dan ke-{} : \".format(i,j)))\r\n",
        "    inner_y.append(inpt)\r\n",
        "  outer_y.append(inner_y)\r\n",
        "  \r\n",
        "print()\r\n",
        "print(\"Hasil Perkalian dari Matriks 1 dan 2\")\r\n",
        "\r\n",
        "outer_z = []\r\n",
        "for i in range(0, len(outer_x)):\r\n",
        "    inner_z = []\r\n",
        "    for k in range(0, len(outer_x[0])):\r\n",
        "        total = 0\r\n",
        "        for j in range(ordo_x):\r\n",
        "            total = total + (outer_x[i][j] * outer_y[j][k])\r\n",
        "        inner_z.append(total)\r\n",
        "    outer_z.append(inner_z)\r\n",
        "\r\n",
        "print()\r\n",
        "print(np.array(outer_z))\r\n",
        "\r\n",
        "pilihan = input(\"Mau Coba Lagi ? : Y/N \")\r\n",
        "\r\n",
        "while pilihan == 'Y':\r\n",
        "  ordo_x = int(input(\"Masukkan Jumlah Ordo X  : \"))\r\n",
        "  ordo_y = int(input(\"Masukkan Jumlah Orde Y  : \"))\r\n",
        "\r\n",
        "  print()\r\n",
        "  print(\"Matriks 1\")\r\n",
        "\r\n",
        "  outer_x = []\r\n",
        "  for i in range(ordo_y):\r\n",
        "    inner_x = []\r\n",
        "    for j in range(ordo_x):\r\n",
        "      inpt = int(input(\"Masukkan nilai ke-{} dan ke-{} : \".format(i,j)))\r\n",
        "      inner_x.append(inpt)\r\n",
        "    outer_x.append(inner_x)\r\n",
        "\r\n",
        "  print()\r\n",
        "  print(\"Matriks 2\")\r\n",
        "\r\n",
        "  outer_y = []\r\n",
        "  for i in range(ordo_y):\r\n",
        "    inner_y = []\r\n",
        "    for j in range(ordo_x):\r\n",
        "      inpt = int(input(\"Masukkan nilai ke-{} dan ke-{} : \".format(i,j)))\r\n",
        "      inner_y.append(inpt)\r\n",
        "    outer_y.append(inner_y)\r\n",
        "    \r\n",
        "  print()\r\n",
        "  print(\"Hasil Perkalian dari Matriks 1 dan 2\")\r\n",
        "\r\n",
        "  outer_z = []\r\n",
        "  for i in range(0, len(outer_x)):\r\n",
        "      inner_z = []\r\n",
        "      for k in range(0, len(outer_x[0])):\r\n",
        "          total = 0\r\n",
        "          for j in range(ordo_x):\r\n",
        "              total = total + (outer_x[i][j] * outer_y[j][k])\r\n",
        "          inner_z.append(total)\r\n",
        "      outer_z.append(inner_z)\r\n",
        "\r\n",
        "  print()\r\n",
        "  print(np.array(outer_z))\r\n",
        "\r\n",
        "  pilihan = input(\"Mau Coba Lagi ? : Y/N \")\r\n",
        "\r\n",
        "print(\"Program Telah Selesai Dieksekusi\")\r\n"
      ],
      "execution_count": 25,
      "outputs": [
        {
          "output_type": "stream",
          "text": [
            "Masukkan Jumlah Ordo X  : 2\n",
            "Masukkan Jumlah Orde Y  : 2\n",
            "\n",
            "Matriks 1\n",
            "Masukkan nilai ke-0 dan ke-0 : 5\n",
            "Masukkan nilai ke-0 dan ke-1 : 0\n",
            "Masukkan nilai ke-1 dan ke-0 : 2\n",
            "Masukkan nilai ke-1 dan ke-1 : 6\n",
            "\n",
            "Matriks 2\n",
            "Masukkan nilai ke-0 dan ke-0 : 1\n",
            "Masukkan nilai ke-0 dan ke-1 : 0\n",
            "Masukkan nilai ke-1 dan ke-0 : 2\n",
            "Masukkan nilai ke-1 dan ke-1 : 4\n",
            "\n",
            "Hasil Perkalian dari Matriks 1 dan 2\n",
            "\n",
            "[[ 5  0]\n",
            " [14 24]]\n",
            "Mau Coba Lagi ? : Y/N N\n",
            "Program Telah Selesai Dieksekusi\n"
          ],
          "name": "stdout"
        }
      ]
    },
    {
      "cell_type": "markdown",
      "metadata": {
        "id": "NsWCdSZ3KjQH"
      },
      "source": [
        "Jawaban Penjelasan program Soal Nomer 2\r\n",
        "\r\n",
        "\r\n",
        "---\r\n",
        "\r\n"
      ]
    },
    {
      "cell_type": "markdown",
      "metadata": {
        "id": "TJ8GbGvPgcEK"
      },
      "source": [
        "# **Penjelasan Program Nomer 2**\r\n",
        "\r\n",
        "Pertama User akan menginputkan jumlah ordo dari tiap\" Matriks, setelah itu mendeklarasikan variabel penampung array pertama dan array kedua, setelah itu kita melakukan looping untuk memasukkan nilai ke dalam array, setelah semua nilai array terpenuhi, antara matriks X dan matriks Y, maka akan dilakukan looping, namun sebelum itu kita deklarasi array matriks z, setelah itu kita lakukan looping dengan range dari panjang array matriks x, dalam looping kita deklarasi array dalam array matriks z, itu bertujuan untuk menampung setiap nilai hasil dari perkalian antara matriks x dan y, setelah itu kita print matriks z, setelah hasil dari matriks z keluar user diberikan pilihan berupa Y atau N, jika Y maka program akan terus di eksekusi jika N maka program akan berakhir"
      ]
    },
    {
      "cell_type": "markdown",
      "metadata": {
        "id": "_B-M0PjbaOL9"
      },
      "source": [
        "**Soal Nomer 3 - Perkalian Matriks Dengan Bilangan Bulat atau Perkalian Skalar Matriks**\r\n",
        "Buat program operasi dasar matrik yakni **perkalian skalar matrik**, dimana nilai skalar(bilangan bulat), ordo dan nilai dari matriknya ditentukan oleh inputan user, flow programnya sbb:\r\n",
        "1.   User mamasukkan nilai skalarnya, misal a\r\n",
        "2.   User mamasukkan ukuran ordo matrik, misal c dan d\r\n",
        "3.   User memasukkan nilai dari matrik sesuai dengan ordo matrik\r\n",
        "4.   Program menampilkan proses perhitungan perkalian matrik\r\n",
        "5.   Program menampilkan hasil perhitungan perkalian matrik\r\n",
        "6.   Program menampilkan pertanyaan \"Mau coba lagi?\"\r\n",
        "7.   Jika user menjawab Y maka program mulai lagi ke langkah 1, kalau tidak program selesai"
      ]
    },
    {
      "cell_type": "code",
      "metadata": {
        "id": "0Ur1PcLybhkY",
        "colab": {
          "base_uri": "https://localhost:8080/"
        },
        "outputId": "1a192f8c-2dcb-48e8-9f13-c258c0eca0ae"
      },
      "source": [
        "#Jawaban Soal Nomer 3\r\n",
        "\r\n",
        "import numpy as np\r\n",
        "\r\n",
        "skalar = int(input(\"Masukkan Bilangan Bulat : \"))\r\n",
        "ordo_x = int(input(\"Masukkan Jumlah Ordo X  : \"))\r\n",
        "ordo_y = int(input(\"Masukkan Jumlah Orde Y  : \"))\r\n",
        "\r\n",
        "print()\r\n",
        "print(\"Matriks 1\")\r\n",
        "\r\n",
        "outer_x = []\r\n",
        "for i in range(ordo_y):\r\n",
        "  inner_x = []\r\n",
        "  for j in range(ordo_x):\r\n",
        "    inpt = int(input(\"Masukkan nilai ke-{} dan ke-{} : \".format(i,j)))\r\n",
        "    inner_x.append(inpt)\r\n",
        "  outer_x.append(inner_x)\r\n",
        "\r\n",
        "\r\n",
        "print()\r\n",
        "print(\"Hasil Perkalian dari Skalar dan Matriks\")\r\n",
        "\r\n",
        "outer_z = []\r\n",
        "for i in range(0, len(outer_x)):\r\n",
        "    inner_z = []\r\n",
        "    total = 0\r\n",
        "    for j in range(0, len(outer_x)):\r\n",
        "      total = skalar * outer_x[i][j]\r\n",
        "      inner_z.append(total)\r\n",
        "    outer_z.append(inner_z)\r\n",
        "\r\n",
        "print()\r\n",
        "print(np.array(outer_z))\r\n",
        "\r\n",
        "pilihan = input(\"Mau Coba Lagi ? : Y/N \")\r\n",
        "\r\n",
        "while pilihan == 'Y':\r\n",
        "  skalar = int(input(\"Masukkan Bilangan Bulat : \"))\r\n",
        "  ordo_x = int(input(\"Masukkan Jumlah Ordo X  : \"))\r\n",
        "  ordo_y = int(input(\"Masukkan Jumlah Orde Y  : \"))\r\n",
        "\r\n",
        "  print()\r\n",
        "  print(\"Matriks 1\")\r\n",
        "\r\n",
        "  outer_x = []\r\n",
        "  for i in range(ordo_y):\r\n",
        "    inner_x = []\r\n",
        "    for j in range(ordo_x):\r\n",
        "      inpt = int(input(\"Masukkan nilai ke-{} dan ke-{} : \".format(i,j)))\r\n",
        "      inner_x.append(inpt)\r\n",
        "    outer_x.append(inner_x)\r\n",
        "\r\n",
        "\r\n",
        "  print()\r\n",
        "  print(\"Hasil Perkalian dari Skalar dan Matriks\")\r\n",
        "\r\n",
        "  outer_z = []\r\n",
        "  for i in range(0, len(outer_x)):\r\n",
        "      inner_z = []\r\n",
        "      total = 0\r\n",
        "      for j in range(0, len(outer_x)):\r\n",
        "        total = skalar * outer_x[i][j]\r\n",
        "        inner_z.append(total)\r\n",
        "      outer_z.append(inner_z)\r\n",
        "\r\n",
        "  print()\r\n",
        "  print(np.array(outer_z))\r\n",
        "\r\n",
        "  pilihan = input(\"Mau Coba Lagi ? : Y/N \")\r\n",
        "\r\n",
        "print(\"Program Telah Selesai Dieksekusi\")"
      ],
      "execution_count": 26,
      "outputs": [
        {
          "output_type": "stream",
          "text": [
            "Masukkan Bilangan Bulat : 2\n",
            "Masukkan Jumlah Ordo X  : 2\n",
            "Masukkan Jumlah Orde Y  : 2\n",
            "\n",
            "Matriks 1\n",
            "Masukkan nilai ke-0 dan ke-0 : 1\n",
            "Masukkan nilai ke-0 dan ke-1 : 2\n",
            "Masukkan nilai ke-1 dan ke-0 : 3\n",
            "Masukkan nilai ke-1 dan ke-1 : 4\n",
            "\n",
            "Hasil Perkalian dari Skalar dan Matriks\n",
            "\n",
            "[[2 4]\n",
            " [6 8]]\n",
            "Mau Coba Lagi ? : Y/N N\n",
            "Program Telah Selesai Dieksekusi\n"
          ],
          "name": "stdout"
        }
      ]
    },
    {
      "cell_type": "markdown",
      "metadata": {
        "id": "N5uV3D7Wblm0"
      },
      "source": [
        "Jawaban Penjelasan program Soal Nomer 3\r\n",
        "\r\n",
        "\r\n",
        "---\r\n",
        "\r\n"
      ]
    },
    {
      "cell_type": "markdown",
      "metadata": {
        "id": "yxWx4IALYSJi"
      },
      "source": [
        "# **Penjelasan Program Nomer 3**\r\n",
        "\r\n",
        "Pertama User akan menginputkan jumlah ordo dari Matriks dan juga menginputkan bilangan skalar, setelah itu mendeklarasikan variabel penampung array matriks x dan matriks z, kemudian melakukan looping untuk menginputkan isi dari variabel array matriks x, setelah user selesai melakukan input, maka akan dilakukan looping untuk melakukan perkalian dari nilai skalar dan matriks x, setelah selesai melakukan looping maka nilai dari looping tadi langsung di masukkan kedalam array matriks z, kemudian matriks z di print, di akhir program user mendapakan pilihan berupa Y atau N, jika Y maka program akan di ulang terus, jika N maka program telah selesai di eksekusi"
      ]
    }
  ]
}